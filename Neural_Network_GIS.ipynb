{
  "nbformat": 4,
  "nbformat_minor": 0,
  "metadata": {
    "colab": {
      "name": "Neural_Network_GIS.ipynb",
      "provenance": [],
      "include_colab_link": true
    },
    "kernelspec": {
      "name": "python3",
      "display_name": "Python 3"
    }
  },
  "cells": [
    {
      "cell_type": "markdown",
      "metadata": {
        "id": "view-in-github",
        "colab_type": "text"
      },
      "source": [
        "<a href=\"https://colab.research.google.com/github/sophieceeplusplus/arch-GIS/blob/master/Neural_Network_GIS.ipynb\" target=\"_parent\"><img src=\"https://colab.research.google.com/assets/colab-badge.svg\" alt=\"Open In Colab\"/></a>"
      ]
    },
    {
      "cell_type": "markdown",
      "metadata": {
        "id": "T14yZvRBUm0A",
        "colab_type": "text"
      },
      "source": [
        "In this notebook we will be using the Tensorflow programme to create an image classifier for archaeological use. This follows the Tesnorflow tutorial with code created by open digital github (https://github.com/o-date/image-classifier/blob/master/Building%20an%20archaeological%20image%20classifier%20with%20tensorflow.ipynb)"
      ]
    },
    {
      "cell_type": "markdown",
      "metadata": {
        "id": "GHKCQUqVTKgM",
        "colab_type": "text"
      },
      "source": [
        "The first code cell clones the github repo with the script for the network and images to train the network and test it"
      ]
    },
    {
      "cell_type": "code",
      "metadata": {
        "id": "fbNVRxpLPske",
        "colab_type": "code",
        "outputId": "07459cfa-2201-48d9-fdf0-fea39927c729",
        "colab": {
          "base_uri": "https://localhost:8080/",
          "height": 102
        }
      },
      "source": [
        "!git clone https://github.com/o-date/image-classifier.git"
      ],
      "execution_count": 0,
      "outputs": [
        {
          "output_type": "stream",
          "text": [
            "Cloning into 'image-classifier'...\n",
            "remote: Enumerating objects: 122, done.\u001b[K\n",
            "remote: Total 122 (delta 0), reused 0 (delta 0), pack-reused 122\u001b[K\n",
            "Receiving objects: 100% (122/122), 17.90 MiB | 14.41 MiB/s, done.\n",
            "Resolving deltas: 100% (25/25), done.\n"
          ],
          "name": "stdout"
        }
      ]
    },
    {
      "cell_type": "markdown",
      "metadata": {
        "id": "pbRJFwGqTdkn",
        "colab_type": "text"
      },
      "source": [
        "This code cell brings in the Tensorflow library for machine learning tools. We will use it to build the neural network for image classification.*italicized text*  "
      ]
    },
    {
      "cell_type": "code",
      "metadata": {
        "id": "lUdpsrTlVIig",
        "colab_type": "code",
        "outputId": "476de145-c97e-4bbc-accd-12fd7ce12bad",
        "colab": {
          "base_uri": "https://localhost:8080/",
          "height": 530
        }
      },
      "source": [
        "!pip install --upgrade \"tensorflow==1.12.*\""
      ],
      "execution_count": 0,
      "outputs": [
        {
          "output_type": "stream",
          "text": [
            "Collecting tensorflow==1.12.*\n",
            "\u001b[?25l  Downloading https://files.pythonhosted.org/packages/cc/7b/5bdce6b6323b314ce44aa5be7b531ba0e70c50ecd18e91bd1823ff9b539d/tensorflow-1.12.3-cp36-cp36m-manylinux1_x86_64.whl (83.1MB)\n",
            "\u001b[K     |████████████████████████████████| 83.1MB 123kB/s \n",
            "\u001b[?25hRequirement already satisfied, skipping upgrade: keras-preprocessing>=1.0.5 in /usr/local/lib/python3.6/dist-packages (from tensorflow==1.12.*) (1.1.0)\n",
            "Requirement already satisfied, skipping upgrade: grpcio>=1.8.6 in /usr/local/lib/python3.6/dist-packages (from tensorflow==1.12.*) (1.15.0)\n",
            "Requirement already satisfied, skipping upgrade: gast>=0.2.0 in /usr/local/lib/python3.6/dist-packages (from tensorflow==1.12.*) (0.2.2)\n",
            "Requirement already satisfied, skipping upgrade: absl-py>=0.1.6 in /usr/local/lib/python3.6/dist-packages (from tensorflow==1.12.*) (0.8.1)\n",
            "Requirement already satisfied, skipping upgrade: numpy>=1.13.3 in /usr/local/lib/python3.6/dist-packages (from tensorflow==1.12.*) (1.17.4)\n",
            "Requirement already satisfied, skipping upgrade: wheel>=0.26 in /usr/local/lib/python3.6/dist-packages (from tensorflow==1.12.*) (0.33.6)\n",
            "Requirement already satisfied, skipping upgrade: six>=1.10.0 in /usr/local/lib/python3.6/dist-packages (from tensorflow==1.12.*) (1.12.0)\n",
            "Requirement already satisfied, skipping upgrade: keras-applications>=1.0.6 in /usr/local/lib/python3.6/dist-packages (from tensorflow==1.12.*) (1.0.8)\n",
            "Collecting tensorboard<1.13.0,>=1.12.0\n",
            "\u001b[?25l  Downloading https://files.pythonhosted.org/packages/07/53/8d32ce9471c18f8d99028b7cef2e5b39ea8765bd7ef250ca05b490880971/tensorboard-1.12.2-py3-none-any.whl (3.0MB)\n",
            "\u001b[K     |████████████████████████████████| 3.1MB 48.6MB/s \n",
            "\u001b[?25hRequirement already satisfied, skipping upgrade: protobuf>=3.6.1 in /usr/local/lib/python3.6/dist-packages (from tensorflow==1.12.*) (3.10.0)\n",
            "Requirement already satisfied, skipping upgrade: astor>=0.6.0 in /usr/local/lib/python3.6/dist-packages (from tensorflow==1.12.*) (0.8.0)\n",
            "Requirement already satisfied, skipping upgrade: termcolor>=1.1.0 in /usr/local/lib/python3.6/dist-packages (from tensorflow==1.12.*) (1.1.0)\n",
            "Requirement already satisfied, skipping upgrade: h5py in /usr/local/lib/python3.6/dist-packages (from keras-applications>=1.0.6->tensorflow==1.12.*) (2.8.0)\n",
            "Requirement already satisfied, skipping upgrade: werkzeug>=0.11.10 in /usr/local/lib/python3.6/dist-packages (from tensorboard<1.13.0,>=1.12.0->tensorflow==1.12.*) (0.16.0)\n",
            "Requirement already satisfied, skipping upgrade: markdown>=2.6.8 in /usr/local/lib/python3.6/dist-packages (from tensorboard<1.13.0,>=1.12.0->tensorflow==1.12.*) (3.1.1)\n",
            "Requirement already satisfied, skipping upgrade: setuptools in /usr/local/lib/python3.6/dist-packages (from protobuf>=3.6.1->tensorflow==1.12.*) (42.0.2)\n",
            "Installing collected packages: tensorboard, tensorflow\n",
            "  Found existing installation: tensorboard 1.7.0\n",
            "    Uninstalling tensorboard-1.7.0:\n",
            "      Successfully uninstalled tensorboard-1.7.0\n",
            "  Found existing installation: tensorflow 1.7.1\n",
            "    Uninstalling tensorflow-1.7.1:\n",
            "      Successfully uninstalled tensorflow-1.7.1\n",
            "Successfully installed tensorboard-1.12.2 tensorflow-1.12.3\n"
          ],
          "name": "stdout"
        }
      ]
    },
    {
      "cell_type": "markdown",
      "metadata": {
        "id": "q25cTSwRUpd_",
        "colab_type": "text"
      },
      "source": [
        "This changes directory to the github repo, called image-classifier that we uploaded earlier. (This will only work the first time you run this notebook, if you re-run leave this code cell out)"
      ]
    },
    {
      "cell_type": "code",
      "metadata": {
        "id": "UvlYfHNgQwj7",
        "colab_type": "code",
        "colab": {}
      },
      "source": [
        "cd image-classifier"
      ],
      "execution_count": 0,
      "outputs": []
    },
    {
      "cell_type": "markdown",
      "metadata": {
        "id": "E9GF-nI_UmA_",
        "colab_type": "text"
      },
      "source": [
        "This trains the model and goes through 500 rounds of training."
      ]
    },
    {
      "cell_type": "code",
      "metadata": {
        "id": "Qrk9CT46OmL8",
        "colab_type": "code",
        "outputId": "4fcfac6c-95c0-48c3-d82d-b0707fe3ecdc",
        "colab": {
          "base_uri": "https://localhost:8080/",
          "height": 1000
        }
      },
      "source": [
        "!python -m scripts.retrain \\\n",
        "  --bottleneck_dir=tf_files/bottlenecks \\\n",
        "  --how_many_training_steps=500 \\\n",
        "  --model_dir=tf_files/models/ \\\n",
        "  --summaries_dir=tf_files/training_summaries/mobilenet_0.50_224 \\\n",
        "  --output_graph=tf_files/retrained_graph.pb \\\n",
        "  --output_labels=tf_files/retrained_labels.txt \\\n",
        "  --architecture mobilenet_0.50_224 \\\n",
        "  --validation_batch_size=-1 \\\n",
        "  --image_dir=tf_files/gallery"
      ],
      "execution_count": 0,
      "outputs": [
        {
          "output_type": "stream",
          "text": [
            "/usr/local/lib/python3.6/dist-packages/tensorflow/python/framework/dtypes.py:523: FutureWarning: Passing (type, 1) or '1type' as a synonym of type is deprecated; in a future version of numpy, it will be understood as (type, (1,)) / '(1,)type'.\n",
            "  _np_qint8 = np.dtype([(\"qint8\", np.int8, 1)])\n",
            "/usr/local/lib/python3.6/dist-packages/tensorflow/python/framework/dtypes.py:524: FutureWarning: Passing (type, 1) or '1type' as a synonym of type is deprecated; in a future version of numpy, it will be understood as (type, (1,)) / '(1,)type'.\n",
            "  _np_quint8 = np.dtype([(\"quint8\", np.uint8, 1)])\n",
            "/usr/local/lib/python3.6/dist-packages/tensorflow/python/framework/dtypes.py:525: FutureWarning: Passing (type, 1) or '1type' as a synonym of type is deprecated; in a future version of numpy, it will be understood as (type, (1,)) / '(1,)type'.\n",
            "  _np_qint16 = np.dtype([(\"qint16\", np.int16, 1)])\n",
            "/usr/local/lib/python3.6/dist-packages/tensorflow/python/framework/dtypes.py:526: FutureWarning: Passing (type, 1) or '1type' as a synonym of type is deprecated; in a future version of numpy, it will be understood as (type, (1,)) / '(1,)type'.\n",
            "  _np_quint16 = np.dtype([(\"quint16\", np.uint16, 1)])\n",
            "/usr/local/lib/python3.6/dist-packages/tensorflow/python/framework/dtypes.py:527: FutureWarning: Passing (type, 1) or '1type' as a synonym of type is deprecated; in a future version of numpy, it will be understood as (type, (1,)) / '(1,)type'.\n",
            "  _np_qint32 = np.dtype([(\"qint32\", np.int32, 1)])\n",
            "/usr/local/lib/python3.6/dist-packages/tensorflow/python/framework/dtypes.py:532: FutureWarning: Passing (type, 1) or '1type' as a synonym of type is deprecated; in a future version of numpy, it will be understood as (type, (1,)) / '(1,)type'.\n",
            "  np_resource = np.dtype([(\"resource\", np.ubyte, 1)])\n",
            ">> Downloading mobilenet_v1_0.50_224_frozen.tgz 100.1%\n",
            "--- Logging error ---\n",
            "Traceback (most recent call last):\n",
            "  File \"/usr/lib/python3.6/logging/__init__.py\", line 994, in emit\n",
            "    msg = self.format(record)\n",
            "  File \"/usr/lib/python3.6/logging/__init__.py\", line 840, in format\n",
            "    return fmt.format(record)\n",
            "  File \"/usr/lib/python3.6/logging/__init__.py\", line 577, in format\n",
            "    record.message = record.getMessage()\n",
            "  File \"/usr/lib/python3.6/logging/__init__.py\", line 338, in getMessage\n",
            "    msg = msg % self.args\n",
            "TypeError: not all arguments converted during string formatting\n",
            "Call stack:\n",
            "  File \"/usr/lib/python3.6/runpy.py\", line 193, in _run_module_as_main\n",
            "    \"__main__\", mod_spec)\n",
            "  File \"/usr/lib/python3.6/runpy.py\", line 85, in _run_code\n",
            "    exec(code, run_globals)\n",
            "  File \"/content/image-classifier/scripts/retrain.py\", line 1326, in <module>\n",
            "    tf.app.run(main=main, argv=[sys.argv[0]] + unparsed)\n",
            "  File \"/usr/local/lib/python3.6/dist-packages/tensorflow/python/platform/app.py\", line 125, in run\n",
            "    _sys.exit(main(argv))\n",
            "  File \"/content/image-classifier/scripts/retrain.py\", line 982, in main\n",
            "    maybe_download_and_extract(model_info['data_url'])\n",
            "  File \"/content/image-classifier/scripts/retrain.py\", line 339, in maybe_download_and_extract\n",
            "    'bytes.')\n",
            "  File \"/usr/local/lib/python3.6/dist-packages/tensorflow/python/platform/tf_logging.py\", line 115, in info\n",
            "    _get_logger().info(msg, *args, **kwargs)\n",
            "Message: 'Successfully downloaded'\n",
            "Arguments: ('mobilenet_v1_0.50_224_frozen.tgz', 6308169, 'bytes.')\n",
            "WARNING:tensorflow:From /content/image-classifier/scripts/retrain.py:274: FastGFile.__init__ (from tensorflow.python.platform.gfile) is deprecated and will be removed in a future version.\n",
            "Instructions for updating:\n",
            "Use tf.gfile.GFile.\n",
            "INFO:tensorflow:Looking for images in 'B4'\n",
            "WARNING:tensorflow:WARNING: Folder has less than 20 images, which may cause issues.\n",
            "INFO:tensorflow:Looking for images in 'BROOCH-FINDS'\n",
            "2019-12-11 18:41:03.978466: I tensorflow/core/platform/cpu_feature_guard.cc:141] Your CPU supports instructions that this TensorFlow binary was not compiled to use: AVX2 AVX512F FMA\n",
            "INFO:tensorflow:Creating bottleneck at tf_files/bottlenecks/B4/B4-2-f.jpg_mobilenet_0.50_224.txt\n",
            "INFO:tensorflow:Creating bottleneck at tf_files/bottlenecks/B4/B4-1.jpg_mobilenet_0.50_224.txt\n",
            "INFO:tensorflow:Creating bottleneck at tf_files/bottlenecks/B4/B4-1-f.jpg_mobilenet_0.50_224.txt\n",
            "INFO:tensorflow:Creating bottleneck at tf_files/bottlenecks/B4/B4-mix1-part-0.jpg_mobilenet_0.50_224.txt\n",
            "INFO:tensorflow:Creating bottleneck at tf_files/bottlenecks/B4/B4-2.jpg_mobilenet_0.50_224.txt\n",
            "INFO:tensorflow:Creating bottleneck at tf_files/bottlenecks/BROOCH-FINDS/LEIC64A43B.jpg_mobilenet_0.50_224.txt\n",
            "INFO:tensorflow:Creating bottleneck at tf_files/bottlenecks/BROOCH-FINDS/GLO69A3F9.jpg_mobilenet_0.50_224.txt\n",
            "INFO:tensorflow:Creating bottleneck at tf_files/bottlenecks/BROOCH-FINDS/PUBLICA94217.jpg_mobilenet_0.50_224.txt\n",
            "INFO:tensorflow:Creating bottleneck at tf_files/bottlenecks/BROOCH-FINDS/PUBLICA99267.jpg_mobilenet_0.50_224.txt\n",
            "INFO:tensorflow:Creating bottleneck at tf_files/bottlenecks/BROOCH-FINDS/KENT1A19A5.jpg_mobilenet_0.50_224.txt\n",
            "INFO:tensorflow:Creating bottleneck at tf_files/bottlenecks/BROOCH-FINDS/LIN23E949.jpg_mobilenet_0.50_224.txt\n",
            "INFO:tensorflow:Creating bottleneck at tf_files/bottlenecks/BROOCH-FINDS/LIN7F7A92.jpg_mobilenet_0.50_224.txt\n",
            "INFO:tensorflow:Creating bottleneck at tf_files/bottlenecks/BROOCH-FINDS/KENT900C82.jpg_mobilenet_0.50_224.txt\n",
            "INFO:tensorflow:Creating bottleneck at tf_files/bottlenecks/BROOCH-FINDS/NLM39365.jpg_mobilenet_0.50_224.txt\n",
            "INFO:tensorflow:Creating bottleneck at tf_files/bottlenecks/BROOCH-FINDS/LEICE528F1.jpg_mobilenet_0.50_224.txt\n",
            "INFO:tensorflow:Creating bottleneck at tf_files/bottlenecks/BROOCH-FINDS/NLM39492.jpg_mobilenet_0.50_224.txt\n",
            "INFO:tensorflow:Creating bottleneck at tf_files/bottlenecks/BROOCH-FINDS/GLOD4D359.jpg_mobilenet_0.50_224.txt\n",
            "INFO:tensorflow:Creating bottleneck at tf_files/bottlenecks/BROOCH-FINDS/NLM39367.jpg_mobilenet_0.50_224.txt\n",
            "INFO:tensorflow:Creating bottleneck at tf_files/bottlenecks/BROOCH-FINDS/GLO6622F4.jpg_mobilenet_0.50_224.txt\n",
            "INFO:tensorflow:Creating bottleneck at tf_files/bottlenecks/BROOCH-FINDS/GLOD4FE25.jpg_mobilenet_0.50_224.txt\n",
            "INFO:tensorflow:Creating bottleneck at tf_files/bottlenecks/BROOCH-FINDS/IOW2018250.jpg_mobilenet_0.50_224.txt\n",
            "INFO:tensorflow:Creating bottleneck at tf_files/bottlenecks/BROOCH-FINDS/LIN7DA06B.jpg_mobilenet_0.50_224.txt\n",
            "INFO:tensorflow:Creating bottleneck at tf_files/bottlenecks/BROOCH-FINDS/save-BUCFB733D-000.jpg_mobilenet_0.50_224.txt\n",
            "INFO:tensorflow:Creating bottleneck at tf_files/bottlenecks/BROOCH-FINDS/WSB0185.jpg_mobilenet_0.50_224.txt\n",
            "INFO:tensorflow:Creating bottleneck at tf_files/bottlenecks/BROOCH-FINDS/GLOD4B49A.jpg_mobilenet_0.50_224.txt\n",
            "INFO:tensorflow:Creating bottleneck at tf_files/bottlenecks/BROOCH-FINDS/SWYOR_D5FDAD.jpg_mobilenet_0.50_224.txt\n",
            "INFO:tensorflow:Creating bottleneck at tf_files/bottlenecks/BROOCH-FINDS/GLOD51760.jpg_mobilenet_0.50_224.txt\n",
            "INFO:tensorflow:Creating bottleneck at tf_files/bottlenecks/BROOCH-FINDS/GLO500CC0.JPG_mobilenet_0.50_224.txt\n",
            "INFO:tensorflow:Creating bottleneck at tf_files/bottlenecks/BROOCH-FINDS/GLO52D0FA.JPG_mobilenet_0.50_224.txt\n",
            "INFO:tensorflow:Creating bottleneck at tf_files/bottlenecks/BROOCH-FINDS/KENT7CEB97.jpg_mobilenet_0.50_224.txt\n",
            "INFO:tensorflow:Creating bottleneck at tf_files/bottlenecks/BROOCH-FINDS/SWYOR_D5DCD9.jpg_mobilenet_0.50_224.txt\n",
            "INFO:tensorflow:Creating bottleneck at tf_files/bottlenecks/BROOCH-FINDS/NLM39510.jpg_mobilenet_0.50_224.txt\n",
            "INFO:tensorflow:Creating bottleneck at tf_files/bottlenecks/BROOCH-FINDS/CM0017.jpg_mobilenet_0.50_224.txt\n",
            "INFO:tensorflow:Creating bottleneck at tf_files/bottlenecks/BROOCH-FINDS/GLO695656.jpg_mobilenet_0.50_224.txt\n",
            "INFO:tensorflow:Creating bottleneck at tf_files/bottlenecks/BROOCH-FINDS/LEICE7A841.jpg_mobilenet_0.50_224.txt\n",
            "INFO:tensorflow:Creating bottleneck at tf_files/bottlenecks/BROOCH-FINDS/save-BUCFB463D-000.jpg_mobilenet_0.50_224.txt\n",
            "INFO:tensorflow:Creating bottleneck at tf_files/bottlenecks/BROOCH-FINDS/DSC_0358copy.jpg_mobilenet_0.50_224.txt\n",
            "WARNING:tensorflow:From /content/image-classifier/scripts/retrain.py:790: softmax_cross_entropy_with_logits (from tensorflow.python.ops.nn_ops) is deprecated and will be removed in a future version.\n",
            "Instructions for updating:\n",
            "\n",
            "Future major versions of TensorFlow will allow gradients to flow\n",
            "into the labels input on backprop by default.\n",
            "\n",
            "See `tf.nn.softmax_cross_entropy_with_logits_v2`.\n",
            "\n",
            "INFO:tensorflow:2019-12-11 18:41:06.919662: Step 0: Train accuracy = 89.0%\n",
            "INFO:tensorflow:2019-12-11 18:41:06.919951: Step 0: Cross entropy = 0.333451\n",
            "INFO:tensorflow:2019-12-11 18:41:07.069071: Step 0: Validation accuracy = 100.0% (N=3)\n",
            "INFO:tensorflow:2019-12-11 18:41:07.434218: Step 10: Train accuracy = 100.0%\n",
            "INFO:tensorflow:2019-12-11 18:41:07.434418: Step 10: Cross entropy = 0.000027\n",
            "INFO:tensorflow:2019-12-11 18:41:07.436730: Step 10: Validation accuracy = 100.0% (N=3)\n",
            "INFO:tensorflow:2019-12-11 18:41:07.812600: Step 20: Train accuracy = 100.0%\n",
            "INFO:tensorflow:2019-12-11 18:41:07.812833: Step 20: Cross entropy = 0.000030\n",
            "INFO:tensorflow:2019-12-11 18:41:07.815248: Step 20: Validation accuracy = 100.0% (N=3)\n",
            "INFO:tensorflow:2019-12-11 18:41:08.200138: Step 30: Train accuracy = 100.0%\n",
            "INFO:tensorflow:2019-12-11 18:41:08.200344: Step 30: Cross entropy = 0.000031\n",
            "INFO:tensorflow:2019-12-11 18:41:08.202764: Step 30: Validation accuracy = 100.0% (N=3)\n",
            "INFO:tensorflow:2019-12-11 18:41:08.559837: Step 40: Train accuracy = 100.0%\n",
            "INFO:tensorflow:2019-12-11 18:41:08.560034: Step 40: Cross entropy = 0.000032\n",
            "INFO:tensorflow:2019-12-11 18:41:08.562526: Step 40: Validation accuracy = 100.0% (N=3)\n",
            "INFO:tensorflow:2019-12-11 18:41:08.918152: Step 50: Train accuracy = 100.0%\n",
            "INFO:tensorflow:2019-12-11 18:41:08.918342: Step 50: Cross entropy = 0.000026\n",
            "INFO:tensorflow:2019-12-11 18:41:08.920658: Step 50: Validation accuracy = 100.0% (N=3)\n",
            "INFO:tensorflow:2019-12-11 18:41:09.281123: Step 60: Train accuracy = 100.0%\n",
            "INFO:tensorflow:2019-12-11 18:41:09.281330: Step 60: Cross entropy = 0.000022\n",
            "INFO:tensorflow:2019-12-11 18:41:09.283655: Step 60: Validation accuracy = 100.0% (N=3)\n",
            "INFO:tensorflow:2019-12-11 18:41:09.640042: Step 70: Train accuracy = 100.0%\n",
            "INFO:tensorflow:2019-12-11 18:41:09.640243: Step 70: Cross entropy = 0.000029\n",
            "INFO:tensorflow:2019-12-11 18:41:09.642638: Step 70: Validation accuracy = 100.0% (N=3)\n",
            "INFO:tensorflow:2019-12-11 18:41:09.994554: Step 80: Train accuracy = 100.0%\n",
            "INFO:tensorflow:2019-12-11 18:41:09.994752: Step 80: Cross entropy = 0.000017\n",
            "INFO:tensorflow:2019-12-11 18:41:09.997097: Step 80: Validation accuracy = 100.0% (N=3)\n",
            "INFO:tensorflow:2019-12-11 18:41:10.367516: Step 90: Train accuracy = 100.0%\n",
            "INFO:tensorflow:2019-12-11 18:41:10.367737: Step 90: Cross entropy = 0.000019\n",
            "INFO:tensorflow:2019-12-11 18:41:10.370208: Step 90: Validation accuracy = 100.0% (N=3)\n",
            "INFO:tensorflow:2019-12-11 18:41:10.748831: Step 100: Train accuracy = 100.0%\n",
            "INFO:tensorflow:2019-12-11 18:41:10.749024: Step 100: Cross entropy = 0.000022\n",
            "INFO:tensorflow:2019-12-11 18:41:10.751419: Step 100: Validation accuracy = 100.0% (N=3)\n",
            "INFO:tensorflow:2019-12-11 18:41:11.108295: Step 110: Train accuracy = 100.0%\n",
            "INFO:tensorflow:2019-12-11 18:41:11.108510: Step 110: Cross entropy = 0.000021\n",
            "INFO:tensorflow:2019-12-11 18:41:11.110888: Step 110: Validation accuracy = 100.0% (N=3)\n",
            "INFO:tensorflow:2019-12-11 18:41:11.471581: Step 120: Train accuracy = 100.0%\n",
            "INFO:tensorflow:2019-12-11 18:41:11.471801: Step 120: Cross entropy = 0.000017\n",
            "INFO:tensorflow:2019-12-11 18:41:11.474107: Step 120: Validation accuracy = 100.0% (N=3)\n",
            "INFO:tensorflow:2019-12-11 18:41:11.836620: Step 130: Train accuracy = 100.0%\n",
            "INFO:tensorflow:2019-12-11 18:41:11.836836: Step 130: Cross entropy = 0.000020\n",
            "INFO:tensorflow:2019-12-11 18:41:11.839118: Step 130: Validation accuracy = 100.0% (N=3)\n",
            "INFO:tensorflow:2019-12-11 18:41:12.198205: Step 140: Train accuracy = 100.0%\n",
            "INFO:tensorflow:2019-12-11 18:41:12.198408: Step 140: Cross entropy = 0.000019\n",
            "INFO:tensorflow:2019-12-11 18:41:12.200904: Step 140: Validation accuracy = 100.0% (N=3)\n",
            "INFO:tensorflow:2019-12-11 18:41:12.556906: Step 150: Train accuracy = 100.0%\n",
            "INFO:tensorflow:2019-12-11 18:41:12.557111: Step 150: Cross entropy = 0.000018\n",
            "INFO:tensorflow:2019-12-11 18:41:12.559491: Step 150: Validation accuracy = 100.0% (N=3)\n",
            "INFO:tensorflow:2019-12-11 18:41:12.921556: Step 160: Train accuracy = 100.0%\n",
            "INFO:tensorflow:2019-12-11 18:41:12.921748: Step 160: Cross entropy = 0.000012\n",
            "INFO:tensorflow:2019-12-11 18:41:12.924115: Step 160: Validation accuracy = 100.0% (N=3)\n",
            "INFO:tensorflow:2019-12-11 18:41:13.282478: Step 170: Train accuracy = 100.0%\n",
            "INFO:tensorflow:2019-12-11 18:41:13.282683: Step 170: Cross entropy = 0.000021\n",
            "INFO:tensorflow:2019-12-11 18:41:13.285171: Step 170: Validation accuracy = 100.0% (N=3)\n",
            "INFO:tensorflow:2019-12-11 18:41:13.643669: Step 180: Train accuracy = 100.0%\n",
            "INFO:tensorflow:2019-12-11 18:41:13.643899: Step 180: Cross entropy = 0.000020\n",
            "INFO:tensorflow:2019-12-11 18:41:13.646826: Step 180: Validation accuracy = 100.0% (N=3)\n",
            "INFO:tensorflow:2019-12-11 18:41:14.008462: Step 190: Train accuracy = 100.0%\n",
            "INFO:tensorflow:2019-12-11 18:41:14.008671: Step 190: Cross entropy = 0.000019\n",
            "INFO:tensorflow:2019-12-11 18:41:14.011010: Step 190: Validation accuracy = 100.0% (N=3)\n",
            "INFO:tensorflow:2019-12-11 18:41:14.371604: Step 200: Train accuracy = 100.0%\n",
            "INFO:tensorflow:2019-12-11 18:41:14.371828: Step 200: Cross entropy = 0.000018\n",
            "INFO:tensorflow:2019-12-11 18:41:14.374239: Step 200: Validation accuracy = 100.0% (N=3)\n",
            "INFO:tensorflow:2019-12-11 18:41:14.734179: Step 210: Train accuracy = 100.0%\n",
            "INFO:tensorflow:2019-12-11 18:41:14.734388: Step 210: Cross entropy = 0.000017\n",
            "INFO:tensorflow:2019-12-11 18:41:14.737297: Step 210: Validation accuracy = 100.0% (N=3)\n",
            "INFO:tensorflow:2019-12-11 18:41:15.106914: Step 220: Train accuracy = 100.0%\n",
            "INFO:tensorflow:2019-12-11 18:41:15.107109: Step 220: Cross entropy = 0.000018\n",
            "INFO:tensorflow:2019-12-11 18:41:15.109529: Step 220: Validation accuracy = 100.0% (N=3)\n",
            "INFO:tensorflow:2019-12-11 18:41:15.466510: Step 230: Train accuracy = 100.0%\n",
            "INFO:tensorflow:2019-12-11 18:41:15.466703: Step 230: Cross entropy = 0.000012\n",
            "INFO:tensorflow:2019-12-11 18:41:15.468959: Step 230: Validation accuracy = 100.0% (N=3)\n",
            "INFO:tensorflow:2019-12-11 18:41:15.831488: Step 240: Train accuracy = 100.0%\n",
            "INFO:tensorflow:2019-12-11 18:41:15.831828: Step 240: Cross entropy = 0.000014\n",
            "INFO:tensorflow:2019-12-11 18:41:15.834187: Step 240: Validation accuracy = 100.0% (N=3)\n",
            "INFO:tensorflow:2019-12-11 18:41:16.193069: Step 250: Train accuracy = 100.0%\n",
            "INFO:tensorflow:2019-12-11 18:41:16.193266: Step 250: Cross entropy = 0.000014\n",
            "INFO:tensorflow:2019-12-11 18:41:16.195691: Step 250: Validation accuracy = 100.0% (N=3)\n",
            "INFO:tensorflow:2019-12-11 18:41:16.549474: Step 260: Train accuracy = 100.0%\n",
            "INFO:tensorflow:2019-12-11 18:41:16.549665: Step 260: Cross entropy = 0.000015\n",
            "INFO:tensorflow:2019-12-11 18:41:16.551869: Step 260: Validation accuracy = 100.0% (N=3)\n",
            "INFO:tensorflow:2019-12-11 18:41:16.913369: Step 270: Train accuracy = 100.0%\n",
            "INFO:tensorflow:2019-12-11 18:41:16.913563: Step 270: Cross entropy = 0.000010\n",
            "INFO:tensorflow:2019-12-11 18:41:16.916115: Step 270: Validation accuracy = 100.0% (N=3)\n",
            "INFO:tensorflow:2019-12-11 18:41:17.273218: Step 280: Train accuracy = 100.0%\n",
            "INFO:tensorflow:2019-12-11 18:41:17.273409: Step 280: Cross entropy = 0.000016\n",
            "INFO:tensorflow:2019-12-11 18:41:17.275752: Step 280: Validation accuracy = 100.0% (N=3)\n",
            "INFO:tensorflow:2019-12-11 18:41:17.636946: Step 290: Train accuracy = 100.0%\n",
            "INFO:tensorflow:2019-12-11 18:41:17.637152: Step 290: Cross entropy = 0.000015\n",
            "INFO:tensorflow:2019-12-11 18:41:17.639387: Step 290: Validation accuracy = 100.0% (N=3)\n",
            "INFO:tensorflow:2019-12-11 18:41:17.999640: Step 300: Train accuracy = 100.0%\n",
            "INFO:tensorflow:2019-12-11 18:41:17.999859: Step 300: Cross entropy = 0.000013\n",
            "INFO:tensorflow:2019-12-11 18:41:18.002313: Step 300: Validation accuracy = 100.0% (N=3)\n",
            "INFO:tensorflow:2019-12-11 18:41:18.364494: Step 310: Train accuracy = 100.0%\n",
            "INFO:tensorflow:2019-12-11 18:41:18.364693: Step 310: Cross entropy = 0.000016\n",
            "INFO:tensorflow:2019-12-11 18:41:18.367092: Step 310: Validation accuracy = 100.0% (N=3)\n",
            "INFO:tensorflow:2019-12-11 18:41:18.748814: Step 320: Train accuracy = 100.0%\n",
            "INFO:tensorflow:2019-12-11 18:41:18.749011: Step 320: Cross entropy = 0.000014\n",
            "INFO:tensorflow:2019-12-11 18:41:18.751570: Step 320: Validation accuracy = 100.0% (N=3)\n",
            "INFO:tensorflow:2019-12-11 18:41:19.131261: Step 330: Train accuracy = 100.0%\n",
            "INFO:tensorflow:2019-12-11 18:41:19.131465: Step 330: Cross entropy = 0.000014\n",
            "INFO:tensorflow:2019-12-11 18:41:19.134272: Step 330: Validation accuracy = 100.0% (N=3)\n",
            "INFO:tensorflow:2019-12-11 18:41:19.500915: Step 340: Train accuracy = 100.0%\n",
            "INFO:tensorflow:2019-12-11 18:41:19.501120: Step 340: Cross entropy = 0.000012\n",
            "INFO:tensorflow:2019-12-11 18:41:19.503492: Step 340: Validation accuracy = 100.0% (N=3)\n",
            "INFO:tensorflow:2019-12-11 18:41:19.861459: Step 350: Train accuracy = 100.0%\n",
            "INFO:tensorflow:2019-12-11 18:41:19.861665: Step 350: Cross entropy = 0.000009\n",
            "INFO:tensorflow:2019-12-11 18:41:19.864085: Step 350: Validation accuracy = 100.0% (N=3)\n",
            "INFO:tensorflow:2019-12-11 18:41:20.229231: Step 360: Train accuracy = 100.0%\n",
            "INFO:tensorflow:2019-12-11 18:41:20.229437: Step 360: Cross entropy = 0.000014\n",
            "INFO:tensorflow:2019-12-11 18:41:20.232027: Step 360: Validation accuracy = 100.0% (N=3)\n",
            "INFO:tensorflow:2019-12-11 18:41:20.601006: Step 370: Train accuracy = 100.0%\n",
            "INFO:tensorflow:2019-12-11 18:41:20.601196: Step 370: Cross entropy = 0.000014\n",
            "INFO:tensorflow:2019-12-11 18:41:20.603521: Step 370: Validation accuracy = 100.0% (N=3)\n",
            "INFO:tensorflow:2019-12-11 18:41:20.962179: Step 380: Train accuracy = 100.0%\n",
            "INFO:tensorflow:2019-12-11 18:41:20.962376: Step 380: Cross entropy = 0.000009\n",
            "INFO:tensorflow:2019-12-11 18:41:20.964922: Step 380: Validation accuracy = 100.0% (N=3)\n",
            "INFO:tensorflow:2019-12-11 18:41:21.325459: Step 390: Train accuracy = 100.0%\n",
            "INFO:tensorflow:2019-12-11 18:41:21.325674: Step 390: Cross entropy = 0.000015\n",
            "INFO:tensorflow:2019-12-11 18:41:21.328057: Step 390: Validation accuracy = 100.0% (N=3)\n",
            "INFO:tensorflow:2019-12-11 18:41:21.697944: Step 400: Train accuracy = 100.0%\n",
            "INFO:tensorflow:2019-12-11 18:41:21.698161: Step 400: Cross entropy = 0.000015\n",
            "INFO:tensorflow:2019-12-11 18:41:21.700680: Step 400: Validation accuracy = 100.0% (N=3)\n",
            "INFO:tensorflow:2019-12-11 18:41:22.080714: Step 410: Train accuracy = 100.0%\n",
            "INFO:tensorflow:2019-12-11 18:41:22.080924: Step 410: Cross entropy = 0.000012\n",
            "INFO:tensorflow:2019-12-11 18:41:22.083328: Step 410: Validation accuracy = 100.0% (N=3)\n",
            "INFO:tensorflow:2019-12-11 18:41:22.448510: Step 420: Train accuracy = 100.0%\n",
            "INFO:tensorflow:2019-12-11 18:41:22.448699: Step 420: Cross entropy = 0.000014\n",
            "INFO:tensorflow:2019-12-11 18:41:22.450992: Step 420: Validation accuracy = 100.0% (N=3)\n",
            "INFO:tensorflow:2019-12-11 18:41:22.810299: Step 430: Train accuracy = 100.0%\n",
            "INFO:tensorflow:2019-12-11 18:41:22.810504: Step 430: Cross entropy = 0.000016\n",
            "INFO:tensorflow:2019-12-11 18:41:22.813305: Step 430: Validation accuracy = 100.0% (N=3)\n",
            "INFO:tensorflow:2019-12-11 18:41:23.184875: Step 440: Train accuracy = 100.0%\n",
            "INFO:tensorflow:2019-12-11 18:41:23.185075: Step 440: Cross entropy = 0.000012\n",
            "INFO:tensorflow:2019-12-11 18:41:23.187394: Step 440: Validation accuracy = 100.0% (N=3)\n",
            "INFO:tensorflow:2019-12-11 18:41:23.550591: Step 450: Train accuracy = 100.0%\n",
            "INFO:tensorflow:2019-12-11 18:41:23.550805: Step 450: Cross entropy = 0.000010\n",
            "INFO:tensorflow:2019-12-11 18:41:23.553137: Step 450: Validation accuracy = 100.0% (N=3)\n",
            "INFO:tensorflow:2019-12-11 18:41:23.921581: Step 460: Train accuracy = 100.0%\n",
            "INFO:tensorflow:2019-12-11 18:41:23.921812: Step 460: Cross entropy = 0.000009\n",
            "INFO:tensorflow:2019-12-11 18:41:23.924464: Step 460: Validation accuracy = 100.0% (N=3)\n",
            "INFO:tensorflow:2019-12-11 18:41:24.294948: Step 470: Train accuracy = 100.0%\n",
            "INFO:tensorflow:2019-12-11 18:41:24.295145: Step 470: Cross entropy = 0.000011\n",
            "INFO:tensorflow:2019-12-11 18:41:24.297676: Step 470: Validation accuracy = 100.0% (N=3)\n",
            "INFO:tensorflow:2019-12-11 18:41:24.663196: Step 480: Train accuracy = 100.0%\n",
            "INFO:tensorflow:2019-12-11 18:41:24.663396: Step 480: Cross entropy = 0.000008\n",
            "INFO:tensorflow:2019-12-11 18:41:24.665805: Step 480: Validation accuracy = 100.0% (N=3)\n",
            "INFO:tensorflow:2019-12-11 18:41:25.022199: Step 490: Train accuracy = 100.0%\n",
            "INFO:tensorflow:2019-12-11 18:41:25.022394: Step 490: Cross entropy = 0.000009\n",
            "INFO:tensorflow:2019-12-11 18:41:25.024838: Step 490: Validation accuracy = 100.0% (N=3)\n",
            "INFO:tensorflow:2019-12-11 18:41:25.353178: Step 499: Train accuracy = 100.0%\n",
            "INFO:tensorflow:2019-12-11 18:41:25.353377: Step 499: Cross entropy = 0.000014\n",
            "INFO:tensorflow:2019-12-11 18:41:25.355822: Step 499: Validation accuracy = 100.0% (N=3)\n",
            "INFO:tensorflow:Final test accuracy = 100.0% (N=6)\n",
            "INFO:tensorflow:Froze 2 variables.\n",
            "INFO:tensorflow:Converted 2 variables to const ops.\n"
          ],
          "name": "stdout"
        }
      ]
    },
    {
      "cell_type": "markdown",
      "metadata": {
        "id": "GQMDBtXbVEMp",
        "colab_type": "text"
      },
      "source": [
        "The final step is to test the model, resuting in a numerical figure relating to the probability that the object is what the model thinks it is. We can see that the model thinks this image is b4 and brooch. This decision is seen numerically, but in cases where this is not so definite there is still a need for human interpretation. "
      ]
    },
    {
      "cell_type": "code",
      "metadata": {
        "id": "JQOY0jaGR4S8",
        "colab_type": "code",
        "outputId": "5ad76a18-d88c-4a62-f488-d3496c4e6608",
        "colab": {
          "base_uri": "https://localhost:8080/",
          "height": 343
        }
      },
      "source": [
        "!python -m scripts.label_image \\\n",
        "    --graph=tf_files/retrained_graph.pb  \\\n",
        "    --image=tf_files/testing/B4-1-f.jpg"
      ],
      "execution_count": 0,
      "outputs": [
        {
          "output_type": "stream",
          "text": [
            "/usr/local/lib/python3.6/dist-packages/tensorflow/python/framework/dtypes.py:523: FutureWarning: Passing (type, 1) or '1type' as a synonym of type is deprecated; in a future version of numpy, it will be understood as (type, (1,)) / '(1,)type'.\n",
            "  _np_qint8 = np.dtype([(\"qint8\", np.int8, 1)])\n",
            "/usr/local/lib/python3.6/dist-packages/tensorflow/python/framework/dtypes.py:524: FutureWarning: Passing (type, 1) or '1type' as a synonym of type is deprecated; in a future version of numpy, it will be understood as (type, (1,)) / '(1,)type'.\n",
            "  _np_quint8 = np.dtype([(\"quint8\", np.uint8, 1)])\n",
            "/usr/local/lib/python3.6/dist-packages/tensorflow/python/framework/dtypes.py:525: FutureWarning: Passing (type, 1) or '1type' as a synonym of type is deprecated; in a future version of numpy, it will be understood as (type, (1,)) / '(1,)type'.\n",
            "  _np_qint16 = np.dtype([(\"qint16\", np.int16, 1)])\n",
            "/usr/local/lib/python3.6/dist-packages/tensorflow/python/framework/dtypes.py:526: FutureWarning: Passing (type, 1) or '1type' as a synonym of type is deprecated; in a future version of numpy, it will be understood as (type, (1,)) / '(1,)type'.\n",
            "  _np_quint16 = np.dtype([(\"quint16\", np.uint16, 1)])\n",
            "/usr/local/lib/python3.6/dist-packages/tensorflow/python/framework/dtypes.py:527: FutureWarning: Passing (type, 1) or '1type' as a synonym of type is deprecated; in a future version of numpy, it will be understood as (type, (1,)) / '(1,)type'.\n",
            "  _np_qint32 = np.dtype([(\"qint32\", np.int32, 1)])\n",
            "/usr/local/lib/python3.6/dist-packages/tensorflow/python/framework/dtypes.py:532: FutureWarning: Passing (type, 1) or '1type' as a synonym of type is deprecated; in a future version of numpy, it will be understood as (type, (1,)) / '(1,)type'.\n",
            "  np_resource = np.dtype([(\"resource\", np.ubyte, 1)])\n",
            "2019-12-11 18:49:23.369971: I tensorflow/core/platform/cpu_feature_guard.cc:141] Your CPU supports instructions that this TensorFlow binary was not compiled to use: AVX2 AVX512F FMA\n",
            "\n",
            "Evaluation time (1-image): 0.163s\n",
            "\n",
            "b4 (score=0.99998)\n",
            "brooch finds (score=0.00002)\n"
          ],
          "name": "stdout"
        }
      ]
    }
  ]
}